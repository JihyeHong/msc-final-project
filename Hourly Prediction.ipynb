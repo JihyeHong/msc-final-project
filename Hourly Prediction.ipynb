{
 "cells": [
  {
   "cell_type": "code",
   "execution_count": null,
   "metadata": {},
   "outputs": [],
   "source": [
    "!pip install numpy\n",
    "!pip install pandas\n",
    "!pip install matplotlib\n",
    "!pip install sklearn\n",
    "!pip install seaborn\n",
    "!pip install requests"
   ]
  },
  {
   "cell_type": "code",
   "execution_count": 13,
   "metadata": {},
   "outputs": [],
   "source": [
    "#Import basic libraries\n",
    "import pandas as pd\n",
    "from pandas import Series,DataFrame\n",
    "import matplotlib.pyplot as plt\n",
    "import seaborn as sns\n",
    "import numpy as np\n",
    "import requests\n",
    "import json\n",
    "import warnings\n",
    "warnings.filterwarnings('ignore')\n",
    "%matplotlib inline"
   ]
  },
  {
   "cell_type": "markdown",
   "metadata": {},
   "source": [
    "### 1. CryptoCompare API call for historical Hours \n",
    "### Function for CryptoCompare HistoMinute API request"
   ]
  },
  {
   "cell_type": "code",
   "execution_count": 14,
   "metadata": {},
   "outputs": [],
   "source": [
    "\n",
    "\n",
    "def get_histohour_data(exchange, fromPair, toPair):\n",
    "    url = 'https://min-api.cryptocompare.com/data/histohour?fsym={}&tsym={}&limit=2000&aggregate=1&e={}'\n",
    "    response = requests.post(url.format(fromPair, toPair, exchange))\n",
    "    data = json.loads(response.content)\n",
    "    df = pd.DataFrame.from_dict(data[\"Data\"], orient=\"columns\")\n",
    "    \n",
    "    return pd.DataFrame(df)"
   ]
  },
  {
   "cell_type": "code",
   "execution_count": 15,
   "metadata": {},
   "outputs": [],
   "source": [
    "# json list to pandas dataframe\n",
    "price_data = {}\n",
    "pairs = ['LTC','BCH','ETC','ETH','LSK','OMG','XMR','XRP','ZEC']\n",
    "for pair in pairs:\n",
    "    price_data[pair] = get_histohour_data('Poloniex', pair, 'BTC')"
   ]
  },
  {
   "cell_type": "code",
   "execution_count": 16,
   "metadata": {},
   "outputs": [
    {
     "data": {
      "text/html": [
       "<div>\n",
       "<style scoped>\n",
       "    .dataframe tbody tr th:only-of-type {\n",
       "        vertical-align: middle;\n",
       "    }\n",
       "\n",
       "    .dataframe tbody tr th {\n",
       "        vertical-align: top;\n",
       "    }\n",
       "\n",
       "    .dataframe thead th {\n",
       "        text-align: right;\n",
       "    }\n",
       "</style>\n",
       "<table border=\"1\" class=\"dataframe\">\n",
       "  <thead>\n",
       "    <tr style=\"text-align: right;\">\n",
       "      <th></th>\n",
       "      <th>close</th>\n",
       "      <th>high</th>\n",
       "      <th>low</th>\n",
       "      <th>open</th>\n",
       "      <th>time</th>\n",
       "      <th>volumefrom</th>\n",
       "      <th>volumeto</th>\n",
       "    </tr>\n",
       "  </thead>\n",
       "  <tbody>\n",
       "    <tr>\n",
       "      <th>0</th>\n",
       "      <td>0.002128</td>\n",
       "      <td>0.002145</td>\n",
       "      <td>0.002072</td>\n",
       "      <td>0.002072</td>\n",
       "      <td>1524632400</td>\n",
       "      <td>16124.43</td>\n",
       "      <td>34.17</td>\n",
       "    </tr>\n",
       "    <tr>\n",
       "      <th>1</th>\n",
       "      <td>0.002166</td>\n",
       "      <td>0.002176</td>\n",
       "      <td>0.002126</td>\n",
       "      <td>0.002128</td>\n",
       "      <td>1524636000</td>\n",
       "      <td>4460.78</td>\n",
       "      <td>9.65</td>\n",
       "    </tr>\n",
       "    <tr>\n",
       "      <th>2</th>\n",
       "      <td>0.002151</td>\n",
       "      <td>0.002181</td>\n",
       "      <td>0.002146</td>\n",
       "      <td>0.002166</td>\n",
       "      <td>1524639600</td>\n",
       "      <td>3410.19</td>\n",
       "      <td>7.39</td>\n",
       "    </tr>\n",
       "    <tr>\n",
       "      <th>3</th>\n",
       "      <td>0.002115</td>\n",
       "      <td>0.002168</td>\n",
       "      <td>0.002108</td>\n",
       "      <td>0.002151</td>\n",
       "      <td>1524643200</td>\n",
       "      <td>2237.01</td>\n",
       "      <td>4.78</td>\n",
       "    </tr>\n",
       "    <tr>\n",
       "      <th>4</th>\n",
       "      <td>0.002099</td>\n",
       "      <td>0.002136</td>\n",
       "      <td>0.002086</td>\n",
       "      <td>0.002115</td>\n",
       "      <td>1524646800</td>\n",
       "      <td>7180.46</td>\n",
       "      <td>15.10</td>\n",
       "    </tr>\n",
       "  </tbody>\n",
       "</table>\n",
       "</div>"
      ],
      "text/plain": [
       "      close      high       low      open        time  volumefrom  volumeto\n",
       "0  0.002128  0.002145  0.002072  0.002072  1524632400    16124.43     34.17\n",
       "1  0.002166  0.002176  0.002126  0.002128  1524636000     4460.78      9.65\n",
       "2  0.002151  0.002181  0.002146  0.002166  1524639600     3410.19      7.39\n",
       "3  0.002115  0.002168  0.002108  0.002151  1524643200     2237.01      4.78\n",
       "4  0.002099  0.002136  0.002086  0.002115  1524646800     7180.46     15.10"
      ]
     },
     "execution_count": 16,
     "metadata": {},
     "output_type": "execute_result"
    }
   ],
   "source": [
    "price_data['ETC'].head()"
   ]
  },
  {
   "cell_type": "markdown",
   "metadata": {},
   "source": [
    "### Function to merge dataframes into a single dataframe\n",
    "* dataframes: multiple dataframe inside of dictionary*\n",
    "* labels: dictionary's labels*\n",
    "* col: column to merge into a new dataframe*"
   ]
  },
  {
   "cell_type": "code",
   "execution_count": 17,
   "metadata": {},
   "outputs": [],
   "source": [
    "def merge_dfs_on_column(dataframes, labels, col): \n",
    "    '''Merge a single column of each dataframe into a new combined dataframe'''\n",
    "    series_dict = {}\n",
    "    for index in range(len(dataframes)): #index = rowIndex\n",
    "        series_dict[labels[index]] = dataframes[index][col]\n",
    "        \n",
    "    return pd.DataFrame(series_dict)"
   ]
  },
  {
   "cell_type": "code",
   "execution_count": 18,
   "metadata": {},
   "outputs": [],
   "source": [
    "# Merge each coin's close price\n",
    "df = merge_dfs_on_column(list(price_data.values()), list(price_data.keys()), 'close')"
   ]
  },
  {
   "cell_type": "code",
   "execution_count": 19,
   "metadata": {},
   "outputs": [
    {
     "data": {
      "text/html": [
       "<div>\n",
       "<style scoped>\n",
       "    .dataframe tbody tr th:only-of-type {\n",
       "        vertical-align: middle;\n",
       "    }\n",
       "\n",
       "    .dataframe tbody tr th {\n",
       "        vertical-align: top;\n",
       "    }\n",
       "\n",
       "    .dataframe thead th {\n",
       "        text-align: right;\n",
       "    }\n",
       "</style>\n",
       "<table border=\"1\" class=\"dataframe\">\n",
       "  <thead>\n",
       "    <tr style=\"text-align: right;\">\n",
       "      <th></th>\n",
       "      <th>LTC</th>\n",
       "      <th>BCH</th>\n",
       "      <th>ETC</th>\n",
       "      <th>ETH</th>\n",
       "      <th>LSK</th>\n",
       "      <th>OMG</th>\n",
       "      <th>XMR</th>\n",
       "      <th>XRP</th>\n",
       "      <th>ZEC</th>\n",
       "    </tr>\n",
       "  </thead>\n",
       "  <tbody>\n",
       "    <tr>\n",
       "      <th>0</th>\n",
       "      <td>0.01656</td>\n",
       "      <td>0.1401</td>\n",
       "      <td>0.002128</td>\n",
       "      <td>0.06996</td>\n",
       "      <td>0.001268</td>\n",
       "      <td>0.001759</td>\n",
       "      <td>0.02891</td>\n",
       "      <td>0.000091</td>\n",
       "      <td>0.03094</td>\n",
       "    </tr>\n",
       "    <tr>\n",
       "      <th>1</th>\n",
       "      <td>0.01654</td>\n",
       "      <td>0.1448</td>\n",
       "      <td>0.002166</td>\n",
       "      <td>0.07030</td>\n",
       "      <td>0.001265</td>\n",
       "      <td>0.001750</td>\n",
       "      <td>0.02912</td>\n",
       "      <td>0.000092</td>\n",
       "      <td>0.03138</td>\n",
       "    </tr>\n",
       "    <tr>\n",
       "      <th>2</th>\n",
       "      <td>0.01649</td>\n",
       "      <td>0.1439</td>\n",
       "      <td>0.002151</td>\n",
       "      <td>0.07012</td>\n",
       "      <td>0.001270</td>\n",
       "      <td>0.001773</td>\n",
       "      <td>0.02892</td>\n",
       "      <td>0.000092</td>\n",
       "      <td>0.03100</td>\n",
       "    </tr>\n",
       "    <tr>\n",
       "      <th>3</th>\n",
       "      <td>0.01633</td>\n",
       "      <td>0.1394</td>\n",
       "      <td>0.002115</td>\n",
       "      <td>0.06884</td>\n",
       "      <td>0.001254</td>\n",
       "      <td>0.001748</td>\n",
       "      <td>0.02840</td>\n",
       "      <td>0.000090</td>\n",
       "      <td>0.03080</td>\n",
       "    </tr>\n",
       "    <tr>\n",
       "      <th>4</th>\n",
       "      <td>0.01632</td>\n",
       "      <td>0.1412</td>\n",
       "      <td>0.002099</td>\n",
       "      <td>0.06859</td>\n",
       "      <td>0.001237</td>\n",
       "      <td>0.001748</td>\n",
       "      <td>0.02821</td>\n",
       "      <td>0.000090</td>\n",
       "      <td>0.03034</td>\n",
       "    </tr>\n",
       "  </tbody>\n",
       "</table>\n",
       "</div>"
      ],
      "text/plain": [
       "       LTC     BCH       ETC      ETH       LSK       OMG      XMR       XRP  \\\n",
       "0  0.01656  0.1401  0.002128  0.06996  0.001268  0.001759  0.02891  0.000091   \n",
       "1  0.01654  0.1448  0.002166  0.07030  0.001265  0.001750  0.02912  0.000092   \n",
       "2  0.01649  0.1439  0.002151  0.07012  0.001270  0.001773  0.02892  0.000092   \n",
       "3  0.01633  0.1394  0.002115  0.06884  0.001254  0.001748  0.02840  0.000090   \n",
       "4  0.01632  0.1412  0.002099  0.06859  0.001237  0.001748  0.02821  0.000090   \n",
       "\n",
       "       ZEC  \n",
       "0  0.03094  \n",
       "1  0.03138  \n",
       "2  0.03100  \n",
       "3  0.03080  \n",
       "4  0.03034  "
      ]
     },
     "execution_count": 19,
     "metadata": {},
     "output_type": "execute_result"
    }
   ],
   "source": [
    "df.head()"
   ]
  },
  {
   "cell_type": "markdown",
   "metadata": {},
   "source": [
    "### Shift price data and label each coin's next price column"
   ]
  },
  {
   "cell_type": "code",
   "execution_count": 21,
   "metadata": {},
   "outputs": [],
   "source": [
    "for pair in pairs:\n",
    "    df[pair+\"next\"] = df[pair].shift(-1)"
   ]
  },
  {
   "cell_type": "code",
   "execution_count": 22,
   "metadata": {},
   "outputs": [
    {
     "data": {
      "text/plain": [
       "Index(['LTC', 'BCH', 'ETC', 'ETH', 'LSK', 'OMG', 'XMR', 'XRP', 'ZEC',\n",
       "       'LTCnext', 'BCHnext', 'ETCnext', 'ETHnext', 'LSKnext', 'OMGnext',\n",
       "       'XMRnext', 'XRPnext', 'ZECnext'],\n",
       "      dtype='object')"
      ]
     },
     "execution_count": 22,
     "metadata": {},
     "output_type": "execute_result"
    }
   ],
   "source": [
    "df.columns"
   ]
  },
  {
   "cell_type": "code",
   "execution_count": 23,
   "metadata": {},
   "outputs": [],
   "source": [
    "# Label the next price movevements for each coin\n",
    "for pair in pairs:\n",
    "    df[pair+'move'] = '0'\n",
    "    df.loc[df[pair] < df[pair+'next'], pair+'move'] = '1'\n",
    "    df.loc[df[pair] > df[pair+'next'], pair+'move'] = '-1'\n",
    "    df.loc[df[pair] == df[pair+'next'], pair+'move'] = '0'"
   ]
  },
  {
   "cell_type": "code",
   "execution_count": 24,
   "metadata": {},
   "outputs": [],
   "source": [
    "df2 = df[['BCHmove', 'ETCmove', 'ETHmove', 'LSKmove', 'LTCmove', 'OMGmove', 'XMRmove', 'XRPmove', 'ZECmove']].copy()\n",
    "df2 = df2.apply(pd.to_numeric)"
   ]
  },
  {
   "cell_type": "code",
   "execution_count": 25,
   "metadata": {},
   "outputs": [
    {
     "data": {
      "text/html": [
       "<div>\n",
       "<style scoped>\n",
       "    .dataframe tbody tr th:only-of-type {\n",
       "        vertical-align: middle;\n",
       "    }\n",
       "\n",
       "    .dataframe tbody tr th {\n",
       "        vertical-align: top;\n",
       "    }\n",
       "\n",
       "    .dataframe thead th {\n",
       "        text-align: right;\n",
       "    }\n",
       "</style>\n",
       "<table border=\"1\" class=\"dataframe\">\n",
       "  <thead>\n",
       "    <tr style=\"text-align: right;\">\n",
       "      <th></th>\n",
       "      <th>BCHmove</th>\n",
       "      <th>ETCmove</th>\n",
       "      <th>ETHmove</th>\n",
       "      <th>LSKmove</th>\n",
       "      <th>LTCmove</th>\n",
       "      <th>OMGmove</th>\n",
       "      <th>XMRmove</th>\n",
       "      <th>XRPmove</th>\n",
       "      <th>ZECmove</th>\n",
       "    </tr>\n",
       "  </thead>\n",
       "  <tbody>\n",
       "    <tr>\n",
       "      <th>BCHmove</th>\n",
       "      <td>1.000000</td>\n",
       "      <td>0.282203</td>\n",
       "      <td>0.357545</td>\n",
       "      <td>0.113216</td>\n",
       "      <td>0.248581</td>\n",
       "      <td>0.107976</td>\n",
       "      <td>0.102442</td>\n",
       "      <td>0.299241</td>\n",
       "      <td>0.124959</td>\n",
       "    </tr>\n",
       "    <tr>\n",
       "      <th>ETCmove</th>\n",
       "      <td>0.282203</td>\n",
       "      <td>1.000000</td>\n",
       "      <td>0.268485</td>\n",
       "      <td>0.077872</td>\n",
       "      <td>0.180235</td>\n",
       "      <td>0.104304</td>\n",
       "      <td>0.143947</td>\n",
       "      <td>0.202865</td>\n",
       "      <td>0.096206</td>\n",
       "    </tr>\n",
       "    <tr>\n",
       "      <th>ETHmove</th>\n",
       "      <td>0.357545</td>\n",
       "      <td>0.268485</td>\n",
       "      <td>1.000000</td>\n",
       "      <td>0.094036</td>\n",
       "      <td>0.285476</td>\n",
       "      <td>0.146126</td>\n",
       "      <td>0.112171</td>\n",
       "      <td>0.327544</td>\n",
       "      <td>0.108691</td>\n",
       "    </tr>\n",
       "    <tr>\n",
       "      <th>LSKmove</th>\n",
       "      <td>0.113216</td>\n",
       "      <td>0.077872</td>\n",
       "      <td>0.094036</td>\n",
       "      <td>1.000000</td>\n",
       "      <td>0.079073</td>\n",
       "      <td>0.096539</td>\n",
       "      <td>0.054806</td>\n",
       "      <td>0.119904</td>\n",
       "      <td>0.043993</td>\n",
       "    </tr>\n",
       "    <tr>\n",
       "      <th>LTCmove</th>\n",
       "      <td>0.248581</td>\n",
       "      <td>0.180235</td>\n",
       "      <td>0.285476</td>\n",
       "      <td>0.079073</td>\n",
       "      <td>1.000000</td>\n",
       "      <td>0.112854</td>\n",
       "      <td>0.137312</td>\n",
       "      <td>0.241122</td>\n",
       "      <td>0.142230</td>\n",
       "    </tr>\n",
       "    <tr>\n",
       "      <th>OMGmove</th>\n",
       "      <td>0.107976</td>\n",
       "      <td>0.104304</td>\n",
       "      <td>0.146126</td>\n",
       "      <td>0.096539</td>\n",
       "      <td>0.112854</td>\n",
       "      <td>1.000000</td>\n",
       "      <td>0.095629</td>\n",
       "      <td>0.131803</td>\n",
       "      <td>0.052919</td>\n",
       "    </tr>\n",
       "    <tr>\n",
       "      <th>XMRmove</th>\n",
       "      <td>0.102442</td>\n",
       "      <td>0.143947</td>\n",
       "      <td>0.112171</td>\n",
       "      <td>0.054806</td>\n",
       "      <td>0.137312</td>\n",
       "      <td>0.095629</td>\n",
       "      <td>1.000000</td>\n",
       "      <td>0.124952</td>\n",
       "      <td>0.088737</td>\n",
       "    </tr>\n",
       "    <tr>\n",
       "      <th>XRPmove</th>\n",
       "      <td>0.299241</td>\n",
       "      <td>0.202865</td>\n",
       "      <td>0.327544</td>\n",
       "      <td>0.119904</td>\n",
       "      <td>0.241122</td>\n",
       "      <td>0.131803</td>\n",
       "      <td>0.124952</td>\n",
       "      <td>1.000000</td>\n",
       "      <td>0.119807</td>\n",
       "    </tr>\n",
       "    <tr>\n",
       "      <th>ZECmove</th>\n",
       "      <td>0.124959</td>\n",
       "      <td>0.096206</td>\n",
       "      <td>0.108691</td>\n",
       "      <td>0.043993</td>\n",
       "      <td>0.142230</td>\n",
       "      <td>0.052919</td>\n",
       "      <td>0.088737</td>\n",
       "      <td>0.119807</td>\n",
       "      <td>1.000000</td>\n",
       "    </tr>\n",
       "  </tbody>\n",
       "</table>\n",
       "</div>"
      ],
      "text/plain": [
       "          BCHmove   ETCmove   ETHmove   LSKmove   LTCmove   OMGmove   XMRmove  \\\n",
       "BCHmove  1.000000  0.282203  0.357545  0.113216  0.248581  0.107976  0.102442   \n",
       "ETCmove  0.282203  1.000000  0.268485  0.077872  0.180235  0.104304  0.143947   \n",
       "ETHmove  0.357545  0.268485  1.000000  0.094036  0.285476  0.146126  0.112171   \n",
       "LSKmove  0.113216  0.077872  0.094036  1.000000  0.079073  0.096539  0.054806   \n",
       "LTCmove  0.248581  0.180235  0.285476  0.079073  1.000000  0.112854  0.137312   \n",
       "OMGmove  0.107976  0.104304  0.146126  0.096539  0.112854  1.000000  0.095629   \n",
       "XMRmove  0.102442  0.143947  0.112171  0.054806  0.137312  0.095629  1.000000   \n",
       "XRPmove  0.299241  0.202865  0.327544  0.119904  0.241122  0.131803  0.124952   \n",
       "ZECmove  0.124959  0.096206  0.108691  0.043993  0.142230  0.052919  0.088737   \n",
       "\n",
       "          XRPmove   ZECmove  \n",
       "BCHmove  0.299241  0.124959  \n",
       "ETCmove  0.202865  0.096206  \n",
       "ETHmove  0.327544  0.108691  \n",
       "LSKmove  0.119904  0.043993  \n",
       "LTCmove  0.241122  0.142230  \n",
       "OMGmove  0.131803  0.052919  \n",
       "XMRmove  0.124952  0.088737  \n",
       "XRPmove  1.000000  0.119807  \n",
       "ZECmove  0.119807  1.000000  "
      ]
     },
     "execution_count": 25,
     "metadata": {},
     "output_type": "execute_result"
    }
   ],
   "source": [
    "df2.corr()"
   ]
  },
  {
   "cell_type": "code",
   "execution_count": 29,
   "metadata": {},
   "outputs": [
    {
     "data": {
      "image/png": "[encoded data removed]",
      "text/plain": [
       "<Figure size 864x648 with 2 Axes>"
      ]
     },
     "metadata": {},
     "output_type": "display_data"
    }
   ],
   "source": [
    "corrmat = df2.corr()\n",
    "f,ax = plt.subplots(figsize=(12, 9))\n",
    "sns.heatmap(corrmat, vmax=.8, square=True);"
   ]
  },
  {
   "cell_type": "code",
   "execution_count": null,
   "metadata": {},
   "outputs": [],
   "source": []
  }
 ],
 "metadata": {
  "kernelspec": {
   "display_name": "Python 3",
   "language": "python",
   "name": "python3"
  },
  "language_info": {
   "codemirror_mode": {
    "name": "ipython",
    "version": 3
   },
   "file_extension": ".py",
   "mimetype": "text/x-python",
   "name": "python",
   "nbconvert_exporter": "python",
   "pygments_lexer": "ipython3",
   "version": "3.6.5"
  }
 },
 "nbformat": 4,
 "nbformat_minor": 2
}
